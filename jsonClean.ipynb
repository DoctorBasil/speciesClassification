{
 "cells": [
  {
   "cell_type": "code",
   "execution_count": 2,
   "metadata": {},
   "outputs": [],
   "source": [
    "import json\n",
    "\n",
    "def filter_arthropoda(input_file, output_file):\n",
    "    with open(input_file, 'r') as file:\n",
    "        data = json.load(file)\n",
    "    \n",
    "    # 从categories中找出所有phylum为\"Arthropoda\"的category_id\n",
    "    arthropoda_ids = {category['id'] for category in data['categories'] if category['phylum'] == 'Arthropoda'}\n",
    "    \n",
    "    # 使用这些id来过滤annotations和images\n",
    "    filtered_annotations = [anno for anno in data['annotations'] if anno['category_id'] in arthropoda_ids]\n",
    "    arthropoda_image_ids = {anno['image_id'] for anno in filtered_annotations}\n",
    "    filtered_images = [img for img in data['images'] if img['id'] in arthropoda_image_ids]\n",
    "\n",
    "    # 创建新的数据字典\n",
    "    new_data = {\n",
    "        'images': filtered_images,\n",
    "        'annotations': filtered_annotations,\n",
    "        'categories': [cat for cat in data['categories'] if cat['id'] in arthropoda_ids]\n",
    "    }\n",
    "\n",
    "    # 写入新的json文件\n",
    "    with open(output_file, 'w') as file:\n",
    "        json.dump(new_data, file, indent=4)\n",
    "\n",
    "# 调用函数\n",
    "filter_arthropoda('train_mini.json', 'train_mini_arthropoda.json')\n",
    "filter_arthropoda('val.json', 'val_arthropoda.json')\n"
   ]
  }
 ],
 "metadata": {
  "kernelspec": {
   "display_name": "dltf",
   "language": "python",
   "name": "python3"
  },
  "language_info": {
   "codemirror_mode": {
    "name": "ipython",
    "version": 3
   },
   "file_extension": ".py",
   "mimetype": "text/x-python",
   "name": "python",
   "nbconvert_exporter": "python",
   "pygments_lexer": "ipython3",
   "version": "3.10.0"
  }
 },
 "nbformat": 4,
 "nbformat_minor": 2
}
