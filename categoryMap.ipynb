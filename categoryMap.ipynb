{
 "cells": [
  {
   "cell_type": "code",
   "execution_count": 4,
   "metadata": {},
   "outputs": [
    {
     "name": "stdout",
     "output_type": "stream",
     "text": [
      "train_mini_arthropoda.json 和 val_arthropoda.json 中的 categories 部分是一致的。\n"
     ]
    }
   ],
   "source": [
    "import json\n",
    "import csv\n",
    "\n",
    "# 打开JSON文件并加载数据\n",
    "with open('train_mini_arthropoda.json', 'r') as json_file:\n",
    "    data = json.load(json_file)\n",
    "    categories = data['categories']\n",
    "\n",
    "# 加载验证集JSON文件并获取categories\n",
    "with open('val_arthropoda.json', 'r') as val_json_file:\n",
    "    val_data = json.load(val_json_file)\n",
    "    val_categories = val_data['categories']\n",
    "\n",
    "# 比较两个categories列表是否一致\n",
    "categories_set = {tuple(cat.items()) for cat in categories}\n",
    "val_categories_set = {tuple(cat.items()) for cat in val_categories}\n",
    "\n",
    "# 输出比较结果\n",
    "if categories_set == val_categories_set:\n",
    "    print(\"train_mini_arthropoda.json 和 val_arthropoda.json 中的 categories 部分是一致的。\")\n",
    "else:\n",
    "    print(\"train_mini_arthropoda.json 和 val_arthropoda.json 中的 categories 部分不一致。\")\n"
   ]
  },
  {
   "cell_type": "code",
   "execution_count": null,
   "metadata": {},
   "outputs": [],
   "source": [
    "# 创建CSV文件并写入数据\n",
    "with open('categorMap.csv', 'w', newline='') as csv_file:\n",
    "    fieldnames = ['id', 'name', 'common_name', 'supercategory', 'kingdom', 'phylum', 'class', 'order', 'family', 'genus', 'specific_epithet', 'image_dir_name']\n",
    "    writer = csv.DictWriter(csv_file, fieldnames=fieldnames)\n",
    "\n",
    "    # 写入表头\n",
    "    writer.writeheader()\n",
    "    \n",
    "    # 写入数据行\n",
    "    for category in categories:\n",
    "        writer.writerow(category)"
   ]
  }
 ],
 "metadata": {
  "kernelspec": {
   "display_name": "base",
   "language": "python",
   "name": "python3"
  },
  "language_info": {
   "codemirror_mode": {
    "name": "ipython",
    "version": 3
   },
   "file_extension": ".py",
   "mimetype": "text/x-python",
   "name": "python",
   "nbconvert_exporter": "python",
   "pygments_lexer": "ipython3",
   "version": "3.12.4"
  }
 },
 "nbformat": 4,
 "nbformat_minor": 2
}
